{
 "cells": [
  {
   "cell_type": "markdown",
   "metadata": {},
   "source": [
    "# BODY MASS INDEX (BMI) CALCULATOR"
   ]
  },
  {
   "cell_type": "markdown",
   "metadata": {},
   "source": [
    "<img src=\"BMI.jpeg\" width = 600>"
   ]
  },
  {
   "cell_type": "markdown",
   "metadata": {},
   "source": [
    "`BMI` which is popularly known as `\"Body Mass Index\"`, is a value derived from the mass and height of a person, it is defined as the body mass divided by the square of the body height, a high BMI is an indicator of high  body fatness, it is very integral in the sense that it can be used to screen for weight categories that may lead to health problems but it is not diagnostic of the body fatness or health of an individual."
   ]
  },
  {
   "cell_type": "code",
   "execution_count": null,
   "metadata": {},
   "outputs": [],
   "source": [
    "Height = float(input('Enter your height in centimeters:'))\n",
    "Weight = float(input('Enter your weight in Kg: '))\n",
    "Height = Height/100\n",
    "BMI = Weight/(Height*Height)\n",
    "print(\"your Body Mass Index is: {} kg/m^2\".format(BMI))\n",
    "\n",
    "if (BMI>0):\n",
    "            if (BMI <= 16):\n",
    "                print('you are severely underweight') \n",
    "            elif (BMI <= 18.5):\n",
    "                print('you are underweight')\n",
    "            elif (BMI <=25):\n",
    "                print('you are healthy')\n",
    "            elif (BMI<=30):\n",
    "                print('you are overweight')\n",
    "            else:\n",
    "                print('you are severely overweight')\n",
    "else: print('enter valid details')"
   ]
  }
 ],
 "metadata": {
  "kernelspec": {
   "display_name": "Python 3",
   "language": "python",
   "name": "python3"
  },
  "language_info": {
   "codemirror_mode": {
    "name": "ipython",
    "version": 3
   },
   "file_extension": ".py",
   "mimetype": "text/x-python",
   "name": "python",
   "nbconvert_exporter": "python",
   "pygments_lexer": "ipython3",
   "version": "3.8.5"
  }
 },
 "nbformat": 4,
 "nbformat_minor": 4
}
